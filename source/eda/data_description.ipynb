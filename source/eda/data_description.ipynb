{
 "cells": [
  {
   "cell_type": "markdown",
   "source": [
    "# Import thư viện"
   ],
   "metadata": {
    "collapsed": false
   }
  },
  {
   "cell_type": "code",
   "execution_count": 1,
   "outputs": [],
   "source": [
    "import os\n",
    "import numpy as np\n",
    "import pandas as pd\n",
    "\n",
    "import matplotlib.pyplot as plt\n",
    "from sklearn import set_config\n",
    "import seaborn as sns; sns.set()\n",
    "import matplotlib.cm as cm\n",
    "set_config(display='diagram')"
   ],
   "metadata": {
    "collapsed": false,
    "pycharm": {
     "name": "#%%\n"
    }
   }
  },
  {
   "cell_type": "markdown",
   "source": [
    "# Đọc dữ liệu"
   ],
   "metadata": {
    "collapsed": false
   }
  },
  {
   "cell_type": "code",
   "execution_count": 2,
   "outputs": [],
   "source": [
    "path_to_data = '../data'\n",
    "path_track = os.path.join(path_to_data, '20210824_212829_tracks.tsv')\n",
    "path_playlist = os.path.join(path_to_data, '20210824_212829_playlists.tsv')\n",
    "path_audio =  os.path.join(path_to_data, '20210824_212829_audios.tsv')\n",
    "path_artist =  os.path.join(path_to_data, '20210824_212829_artists.tsv')"
   ],
   "metadata": {
    "collapsed": false,
    "pycharm": {
     "name": "#%%\n"
    }
   }
  },
  {
   "cell_type": "code",
   "execution_count": 3,
   "outputs": [],
   "source": [
    "pd_track = pd.read_csv(path_track, sep='\\t')\n",
    "pd_audio = pd.read_csv(path_audio, sep='\\t')\n",
    "pd_playlist = pd.read_csv(path_playlist, sep='\\t')\n",
    "pd_artist = pd.read_csv(path_artist, sep='\\t')"
   ],
   "metadata": {
    "collapsed": false,
    "pycharm": {
     "name": "#%%\n"
    }
   }
  },
  {
   "cell_type": "code",
   "execution_count": 19,
   "outputs": [
    {
     "data": {
      "text/plain": "                                          column name  \\\n0                                         playlist_id   \n1                                            track_id   \n2                                          track_name   \n3                                      track_duration   \n4                                          artist_ids   \n5                                        artist_names   \n6                                            album_id   \n7                                          album_name   \n8                                          popularity   \n9   The popularity of a track is a value between 0...   \n10                                 Generally speaking   \n\n                                            data type  \\\n0                                              string   \n1                                              string   \n2                                              string   \n3                                                 int   \n4                                                list   \n5                                                list   \n6                                              string   \n7                                              string   \n8                                                 int   \n9    with 100 being the most popular. The populari...   \n10   songs that are being played a lot now will ha...   \n\n                                              meaning  \\\n0                      The Spotify ID of the playlist   \n1                        The Spotify ID for the track   \n2                               The name of the track   \n3           The duration of the track in milliseconds   \n4    A comma-separated list for the Spotify ID of ...   \n5              A comma-separated list of artists name   \n6    A comma-separated list of the Spotify IDs for...   \n7                                  Name of the album    \n8    \"The popularity of the track. The value will ...   \n9                                    in the most part   \n10                                                100   \n\n                                              example  \n0                              37i9dQZF1DXcBWIGoYBM5M  \n1                              5HCyWlXZPP0y6Gqq8TgA20  \n2                           STAY (with Justin Bieber)  \n3                                              141805  \n4    [2tIP7SsRs7vjIcLrU85W8J, 1uNFoZAHBGtllmzznpCI3s]  \n5                      [The Kid LAROI, Justin Bieber]  \n6                              4QLAtpLNUsHEYrcHXmMIZZ  \n7                           STAY (with Justin Bieber)  \n8                    with 100 being the most popular.  \n9    on the total number of plays the track has ha...  \n10                                                NaN  ",
      "text/html": "<div>\n<style scoped>\n    .dataframe tbody tr th:only-of-type {\n        vertical-align: middle;\n    }\n\n    .dataframe tbody tr th {\n        vertical-align: top;\n    }\n\n    .dataframe thead th {\n        text-align: right;\n    }\n</style>\n<table border=\"1\" class=\"dataframe\">\n  <thead>\n    <tr style=\"text-align: right;\">\n      <th></th>\n      <th>column name</th>\n      <th>data type</th>\n      <th>meaning</th>\n      <th>example</th>\n    </tr>\n  </thead>\n  <tbody>\n    <tr>\n      <th>0</th>\n      <td>playlist_id</td>\n      <td>string</td>\n      <td>The Spotify ID of the playlist</td>\n      <td>37i9dQZF1DXcBWIGoYBM5M</td>\n    </tr>\n    <tr>\n      <th>1</th>\n      <td>track_id</td>\n      <td>string</td>\n      <td>The Spotify ID for the track</td>\n      <td>5HCyWlXZPP0y6Gqq8TgA20</td>\n    </tr>\n    <tr>\n      <th>2</th>\n      <td>track_name</td>\n      <td>string</td>\n      <td>The name of the track</td>\n      <td>STAY (with Justin Bieber)</td>\n    </tr>\n    <tr>\n      <th>3</th>\n      <td>track_duration</td>\n      <td>int</td>\n      <td>The duration of the track in milliseconds</td>\n      <td>141805</td>\n    </tr>\n    <tr>\n      <th>4</th>\n      <td>artist_ids</td>\n      <td>list</td>\n      <td>A comma-separated list for the Spotify ID of ...</td>\n      <td>[2tIP7SsRs7vjIcLrU85W8J, 1uNFoZAHBGtllmzznpCI3s]</td>\n    </tr>\n    <tr>\n      <th>5</th>\n      <td>artist_names</td>\n      <td>list</td>\n      <td>A comma-separated list of artists name</td>\n      <td>[The Kid LAROI, Justin Bieber]</td>\n    </tr>\n    <tr>\n      <th>6</th>\n      <td>album_id</td>\n      <td>string</td>\n      <td>A comma-separated list of the Spotify IDs for...</td>\n      <td>4QLAtpLNUsHEYrcHXmMIZZ</td>\n    </tr>\n    <tr>\n      <th>7</th>\n      <td>album_name</td>\n      <td>string</td>\n      <td>Name of the album</td>\n      <td>STAY (with Justin Bieber)</td>\n    </tr>\n    <tr>\n      <th>8</th>\n      <td>popularity</td>\n      <td>int</td>\n      <td>\"The popularity of the track. The value will ...</td>\n      <td>with 100 being the most popular.</td>\n    </tr>\n    <tr>\n      <th>9</th>\n      <td>The popularity of a track is a value between 0...</td>\n      <td>with 100 being the most popular. The populari...</td>\n      <td>in the most part</td>\n      <td>on the total number of plays the track has ha...</td>\n    </tr>\n    <tr>\n      <th>10</th>\n      <td>Generally speaking</td>\n      <td>songs that are being played a lot now will ha...</td>\n      <td>100</td>\n      <td>NaN</td>\n    </tr>\n  </tbody>\n</table>\n</div>"
     },
     "execution_count": 19,
     "metadata": {},
     "output_type": "execute_result"
    }
   ],
   "source": [
    "pd_track.columns.to_list()\n",
    "pd.read_csv('./data_description/des_tracks.csv')"
   ],
   "metadata": {
    "collapsed": false,
    "pycharm": {
     "name": "#%%\n"
    }
   }
  },
  {
   "cell_type": "code",
   "execution_count": 22,
   "outputs": [
    {
     "data": {
      "text/plain": "         column name  data type  \\\n0                 id     string   \n1       danceability      float   \n2             energy      float   \n3                key        int   \n4           loudness     float    \n5               mode        int   \n6        speechiness      float   \n7       acousticness      float   \n8   instrumentalness      float   \n9           liveness     float    \n10           valence     float    \n11             tempo      float   \n12   time_signature        int    \n\n                                              meaning                  example  \n0                        The Spotify ID for the track   5HCyWlXZPP0y6Gqq8TgA20  \n1   Danceability describes how suitable a track is...                    0.591  \n2   Energy is a measure from 0.0 to 1.0 and repres...                    0.764  \n3   The key the track is in. Integers map to pitch...                        1  \n4   The overall loudness of a track in decibels (d...                   -5.484  \n5   Mode indicates the modality (major or minor) o...                        1  \n6   Speechiness detects the presence of spoken wor...                   0.0483  \n7   A confidence measure from 0.0 to 1.0 of whethe...                   0.0383  \n8   Predicts whether a track contains no vocals. “...                        0  \n9   Detects the presence of an audience in the rec...                    0.103  \n10  A measure from 0.0 to 1.0 describing the music...                    0.478  \n11  The overall estimated tempo of a track in beat...                  169.928  \n12  An estimated overall time signature of a track...                        4  ",
      "text/html": "<div>\n<style scoped>\n    .dataframe tbody tr th:only-of-type {\n        vertical-align: middle;\n    }\n\n    .dataframe tbody tr th {\n        vertical-align: top;\n    }\n\n    .dataframe thead th {\n        text-align: right;\n    }\n</style>\n<table border=\"1\" class=\"dataframe\">\n  <thead>\n    <tr style=\"text-align: right;\">\n      <th></th>\n      <th>column name</th>\n      <th>data type</th>\n      <th>meaning</th>\n      <th>example</th>\n    </tr>\n  </thead>\n  <tbody>\n    <tr>\n      <th>0</th>\n      <td>id</td>\n      <td>string</td>\n      <td>The Spotify ID for the track</td>\n      <td>5HCyWlXZPP0y6Gqq8TgA20</td>\n    </tr>\n    <tr>\n      <th>1</th>\n      <td>danceability</td>\n      <td>float</td>\n      <td>Danceability describes how suitable a track is...</td>\n      <td>0.591</td>\n    </tr>\n    <tr>\n      <th>2</th>\n      <td>energy</td>\n      <td>float</td>\n      <td>Energy is a measure from 0.0 to 1.0 and repres...</td>\n      <td>0.764</td>\n    </tr>\n    <tr>\n      <th>3</th>\n      <td>key</td>\n      <td>int</td>\n      <td>The key the track is in. Integers map to pitch...</td>\n      <td>1</td>\n    </tr>\n    <tr>\n      <th>4</th>\n      <td>loudness</td>\n      <td>float</td>\n      <td>The overall loudness of a track in decibels (d...</td>\n      <td>-5.484</td>\n    </tr>\n    <tr>\n      <th>5</th>\n      <td>mode</td>\n      <td>int</td>\n      <td>Mode indicates the modality (major or minor) o...</td>\n      <td>1</td>\n    </tr>\n    <tr>\n      <th>6</th>\n      <td>speechiness</td>\n      <td>float</td>\n      <td>Speechiness detects the presence of spoken wor...</td>\n      <td>0.0483</td>\n    </tr>\n    <tr>\n      <th>7</th>\n      <td>acousticness</td>\n      <td>float</td>\n      <td>A confidence measure from 0.0 to 1.0 of whethe...</td>\n      <td>0.0383</td>\n    </tr>\n    <tr>\n      <th>8</th>\n      <td>instrumentalness</td>\n      <td>float</td>\n      <td>Predicts whether a track contains no vocals. “...</td>\n      <td>0</td>\n    </tr>\n    <tr>\n      <th>9</th>\n      <td>liveness</td>\n      <td>float</td>\n      <td>Detects the presence of an audience in the rec...</td>\n      <td>0.103</td>\n    </tr>\n    <tr>\n      <th>10</th>\n      <td>valence</td>\n      <td>float</td>\n      <td>A measure from 0.0 to 1.0 describing the music...</td>\n      <td>0.478</td>\n    </tr>\n    <tr>\n      <th>11</th>\n      <td>tempo</td>\n      <td>float</td>\n      <td>The overall estimated tempo of a track in beat...</td>\n      <td>169.928</td>\n    </tr>\n    <tr>\n      <th>12</th>\n      <td>time_signature</td>\n      <td>int</td>\n      <td>An estimated overall time signature of a track...</td>\n      <td>4</td>\n    </tr>\n  </tbody>\n</table>\n</div>"
     },
     "execution_count": 22,
     "metadata": {},
     "output_type": "execute_result"
    }
   ],
   "source": [
    "pd_audio.columns.to_list()\n",
    "pd.read_csv('./data_description/des_audio.csv')"
   ],
   "metadata": {
    "collapsed": false,
    "pycharm": {
     "name": "#%%\n"
    }
   }
  },
  {
   "cell_type": "code",
   "execution_count": 23,
   "outputs": [
    {
     "data": {
      "text/plain": "              column name  data type                             meaning  \\\n0             playlist_id     string      The Spotify ID of the playlist   \n1           playlist_name   'string'                The name of playlist   \n2    playlist_description   'string'         The description of playlist   \n3     playlist_num_tracks      'int'   Number of tracks in that playlist   \n4  playlist_num_followers      'int'    Number of this playlist follower   \n\n                                  example  \n0                  37i9dQZF1DXcBWIGoYBM5M  \n1                        Today's Top Hits  \n2   Doja Cat is on top of the Hottest 50!  \n3                                      50  \n4                                29379379  ",
      "text/html": "<div>\n<style scoped>\n    .dataframe tbody tr th:only-of-type {\n        vertical-align: middle;\n    }\n\n    .dataframe tbody tr th {\n        vertical-align: top;\n    }\n\n    .dataframe thead th {\n        text-align: right;\n    }\n</style>\n<table border=\"1\" class=\"dataframe\">\n  <thead>\n    <tr style=\"text-align: right;\">\n      <th></th>\n      <th>column name</th>\n      <th>data type</th>\n      <th>meaning</th>\n      <th>example</th>\n    </tr>\n  </thead>\n  <tbody>\n    <tr>\n      <th>0</th>\n      <td>playlist_id</td>\n      <td>string</td>\n      <td>The Spotify ID of the playlist</td>\n      <td>37i9dQZF1DXcBWIGoYBM5M</td>\n    </tr>\n    <tr>\n      <th>1</th>\n      <td>playlist_name</td>\n      <td>'string'</td>\n      <td>The name of playlist</td>\n      <td>Today's Top Hits</td>\n    </tr>\n    <tr>\n      <th>2</th>\n      <td>playlist_description</td>\n      <td>'string'</td>\n      <td>The description of playlist</td>\n      <td>Doja Cat is on top of the Hottest 50!</td>\n    </tr>\n    <tr>\n      <th>3</th>\n      <td>playlist_num_tracks</td>\n      <td>'int'</td>\n      <td>Number of tracks in that playlist</td>\n      <td>50</td>\n    </tr>\n    <tr>\n      <th>4</th>\n      <td>playlist_num_followers</td>\n      <td>'int'</td>\n      <td>Number of this playlist follower</td>\n      <td>29379379</td>\n    </tr>\n  </tbody>\n</table>\n</div>"
     },
     "execution_count": 23,
     "metadata": {},
     "output_type": "execute_result"
    }
   ],
   "source": [
    "pd_playlist.columns.to_list()\n",
    "pd.read_csv('./data_description/des_playlist.csv')"
   ],
   "metadata": {
    "collapsed": false,
    "pycharm": {
     "name": "#%%\n"
    }
   }
  },
  {
   "cell_type": "code",
   "execution_count": 24,
   "outputs": [
    {
     "data": {
      "text/plain": "  column name  data type                                            meaning  \\\n0          id     string                           The Spotify ID of artist   \n1        name     string                                 Name of the artist   \n2   followers        int                     Number of that artist follower   \n3  popularity        int  The popularity of the artist. The value will b...   \n4      genres       list   A comma seperated list of genres of that arti...   \n\n                                    example  \n0                    1uNFoZAHBGtllmzznpCI3s  \n1                             Justin Bieber  \n2                                  48927405  \n3                                        98  \n4  ['canadian pop', 'pop', 'post-teen pop']  ",
      "text/html": "<div>\n<style scoped>\n    .dataframe tbody tr th:only-of-type {\n        vertical-align: middle;\n    }\n\n    .dataframe tbody tr th {\n        vertical-align: top;\n    }\n\n    .dataframe thead th {\n        text-align: right;\n    }\n</style>\n<table border=\"1\" class=\"dataframe\">\n  <thead>\n    <tr style=\"text-align: right;\">\n      <th></th>\n      <th>column name</th>\n      <th>data type</th>\n      <th>meaning</th>\n      <th>example</th>\n    </tr>\n  </thead>\n  <tbody>\n    <tr>\n      <th>0</th>\n      <td>id</td>\n      <td>string</td>\n      <td>The Spotify ID of artist</td>\n      <td>1uNFoZAHBGtllmzznpCI3s</td>\n    </tr>\n    <tr>\n      <th>1</th>\n      <td>name</td>\n      <td>string</td>\n      <td>Name of the artist</td>\n      <td>Justin Bieber</td>\n    </tr>\n    <tr>\n      <th>2</th>\n      <td>followers</td>\n      <td>int</td>\n      <td>Number of that artist follower</td>\n      <td>48927405</td>\n    </tr>\n    <tr>\n      <th>3</th>\n      <td>popularity</td>\n      <td>int</td>\n      <td>The popularity of the artist. The value will b...</td>\n      <td>98</td>\n    </tr>\n    <tr>\n      <th>4</th>\n      <td>genres</td>\n      <td>list</td>\n      <td>A comma seperated list of genres of that arti...</td>\n      <td>['canadian pop', 'pop', 'post-teen pop']</td>\n    </tr>\n  </tbody>\n</table>\n</div>"
     },
     "execution_count": 24,
     "metadata": {},
     "output_type": "execute_result"
    }
   ],
   "source": [
    "pd_artist.columns.to_list()\n",
    "pd.read_csv('./data_description/des_artist.csv')"
   ],
   "metadata": {
    "collapsed": false,
    "pycharm": {
     "name": "#%%\n"
    }
   }
  }
 ],
 "metadata": {
  "kernelspec": {
   "display_name": "Python 3",
   "language": "python",
   "name": "python3"
  },
  "language_info": {
   "codemirror_mode": {
    "name": "ipython",
    "version": 2
   },
   "file_extension": ".py",
   "mimetype": "text/x-python",
   "name": "python",
   "nbconvert_exporter": "python",
   "pygments_lexer": "ipython2",
   "version": "2.7.6"
  }
 },
 "nbformat": 4,
 "nbformat_minor": 0
}