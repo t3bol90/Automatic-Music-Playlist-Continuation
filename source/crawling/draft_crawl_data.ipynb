{
 "cells": [
  {
   "cell_type": "markdown",
   "source": [
    "## Check enviroment is updated"
   ],
   "metadata": {}
  },
  {
   "cell_type": "code",
   "execution_count": 1,
   "source": [
    "conda_list = !conda list\n",
    "conda_env_string = \"\".join(conda_list)\n",
    "def check_installed_requirement(reqs):\n",
    "    for req in reqs:\n",
    "        if req in conda_env_string:\n",
    "            print(f\"requirement {req} has been installed\")\n",
    "        else:\n",
    "            print(f\"installing {req} by using conda ...\")\n",
    "            !conda install {req}"
   ],
   "outputs": [],
   "metadata": {}
  },
  {
   "cell_type": "code",
   "execution_count": 2,
   "source": [
    "check_installed_requirement([\"spotipy\",\"alive-progress\",\"tqdm\",\"yaml\"])"
   ],
   "outputs": [
    {
     "output_type": "stream",
     "name": "stdout",
     "text": [
      "requirement spotipy has been installed\n",
      "requirement alive-progress has been installed\n"
     ]
    }
   ],
   "metadata": {}
  },
  {
   "cell_type": "code",
   "execution_count": 3,
   "source": [
    "%%capture\n",
    "from tqdm.auto import tqdm as tqdm\n",
    "tqdm().pandas()\n",
    "from colorama import Fore"
   ],
   "outputs": [],
   "metadata": {}
  },
  {
   "cell_type": "code",
   "execution_count": 4,
   "source": [
    "# Load config\n",
    "import yaml"
   ],
   "outputs": [],
   "metadata": {}
  },
  {
   "cell_type": "code",
   "execution_count": 5,
   "source": [
    "# Làm những cái khác\n",
    "import os\n",
    "import pandas as pd\n",
    "import csv\n",
    "import time\n",
    "import re"
   ],
   "outputs": [],
   "metadata": {}
  },
  {
   "cell_type": "code",
   "execution_count": 6,
   "source": [
    "# Của spotipy\n",
    "import spotipy\n",
    "from spotipy.oauth2 import SpotifyClientCredentials"
   ],
   "outputs": [],
   "metadata": {}
  },
  {
   "cell_type": "code",
   "execution_count": 7,
   "source": [
    "from math import ceil"
   ],
   "outputs": [],
   "metadata": {}
  },
  {
   "cell_type": "code",
   "execution_count": 8,
   "source": [
    "# In lỗi trong quá trình crawling\n",
    "import traceback"
   ],
   "outputs": [],
   "metadata": {}
  },
  {
   "cell_type": "code",
   "execution_count": 9,
   "source": [
    "# Ngày tháng\n",
    "from datetime import datetime"
   ],
   "outputs": [],
   "metadata": {}
  },
  {
   "cell_type": "markdown",
   "source": [
    "## Load config"
   ],
   "metadata": {}
  },
  {
   "cell_type": "code",
   "execution_count": 10,
   "source": [
    "# Kiểm tra file config có tồn tại\n",
    "if not os.path.isfile(\"config.yaml\"):\n",
    "    sys.exit(\"'config.yaml' not found! Please add it and try again.\")\n",
    "else:\n",
    "    with open(\"config.yaml\") as file:\n",
    "        config = yaml.load(file, Loader=yaml.FullLoader)"
   ],
   "outputs": [],
   "metadata": {}
  },
  {
   "cell_type": "code",
   "execution_count": 11,
   "source": [
    "# Cài đặt biến môi trường\n",
    "\n",
    "os.environ['SPOTIPY_CLIENT_ID']= config['SPOTIPY_CLIENT_ID']\n",
    "os.environ['SPOTIPY_CLIENT_SECRET']= config['SPOTIPY_CLIENT_SECRET']"
   ],
   "outputs": [],
   "metadata": {}
  },
  {
   "cell_type": "code",
   "execution_count": 12,
   "source": [
    "sp = spotipy.Spotify(auth_manager=SpotifyClientCredentials())"
   ],
   "outputs": [],
   "metadata": {}
  },
  {
   "cell_type": "markdown",
   "source": [
    "## Test API Client"
   ],
   "metadata": {}
  },
  {
   "cell_type": "code",
   "execution_count": 13,
   "source": [
    "playlists = sp.user_playlists('spotify',offset=1390,limit=10)"
   ],
   "outputs": [],
   "metadata": {}
  },
  {
   "cell_type": "code",
   "execution_count": 14,
   "source": [
    "len(playlists['items'])"
   ],
   "outputs": [
    {
     "output_type": "execute_result",
     "data": {
      "text/plain": [
       "5"
      ]
     },
     "metadata": {},
     "execution_count": 14
    }
   ],
   "metadata": {}
  },
  {
   "cell_type": "code",
   "execution_count": 15,
   "source": [
    "playlists['items'][0]"
   ],
   "outputs": [
    {
     "output_type": "execute_result",
     "data": {
      "text/plain": [
       "{'collaborative': False,\n",
       " 'description': 'Kick back with the queens of pop.',\n",
       " 'external_urls': {'spotify': 'https://open.spotify.com/playlist/37i9dQZF1DX3WvGXE8FqYX'},\n",
       " 'href': 'https://api.spotify.com/v1/playlists/37i9dQZF1DX3WvGXE8FqYX',\n",
       " 'id': '37i9dQZF1DX3WvGXE8FqYX',\n",
       " 'images': [{'height': None,\n",
       "   'url': 'https://i.scdn.co/image/ab67706f0000000361dceefe400614407dd0177f',\n",
       "   'width': None}],\n",
       " 'name': 'Women of Pop',\n",
       " 'owner': {'display_name': 'Spotify',\n",
       "  'external_urls': {'spotify': 'https://open.spotify.com/user/spotify'},\n",
       "  'href': 'https://api.spotify.com/v1/users/spotify',\n",
       "  'id': 'spotify',\n",
       "  'type': 'user',\n",
       "  'uri': 'spotify:user:spotify'},\n",
       " 'primary_color': None,\n",
       " 'public': True,\n",
       " 'snapshot_id': 'MTYyOTgxNTMwMiwwMDAwMDAwMGQ0MWQ4Y2Q5OGYwMGIyMDRlOTgwMDk5OGVjZjg0Mjdl',\n",
       " 'tracks': {'href': 'https://api.spotify.com/v1/playlists/37i9dQZF1DX3WvGXE8FqYX/tracks',\n",
       "  'total': 70},\n",
       " 'type': 'playlist',\n",
       " 'uri': 'spotify:playlist:37i9dQZF1DX3WvGXE8FqYX'}"
      ]
     },
     "metadata": {},
     "execution_count": 15
    }
   ],
   "metadata": {}
  },
  {
   "cell_type": "code",
   "execution_count": 16,
   "source": [
    "playlists['next']"
   ],
   "outputs": [],
   "metadata": {}
  },
  {
   "cell_type": "code",
   "execution_count": 17,
   "source": [
    "playlists['items'][0]"
   ],
   "outputs": [
    {
     "output_type": "execute_result",
     "data": {
      "text/plain": [
       "{'collaborative': False,\n",
       " 'description': 'Kick back with the queens of pop.',\n",
       " 'external_urls': {'spotify': 'https://open.spotify.com/playlist/37i9dQZF1DX3WvGXE8FqYX'},\n",
       " 'href': 'https://api.spotify.com/v1/playlists/37i9dQZF1DX3WvGXE8FqYX',\n",
       " 'id': '37i9dQZF1DX3WvGXE8FqYX',\n",
       " 'images': [{'height': None,\n",
       "   'url': 'https://i.scdn.co/image/ab67706f0000000361dceefe400614407dd0177f',\n",
       "   'width': None}],\n",
       " 'name': 'Women of Pop',\n",
       " 'owner': {'display_name': 'Spotify',\n",
       "  'external_urls': {'spotify': 'https://open.spotify.com/user/spotify'},\n",
       "  'href': 'https://api.spotify.com/v1/users/spotify',\n",
       "  'id': 'spotify',\n",
       "  'type': 'user',\n",
       "  'uri': 'spotify:user:spotify'},\n",
       " 'primary_color': None,\n",
       " 'public': True,\n",
       " 'snapshot_id': 'MTYyOTgxNTMwMiwwMDAwMDAwMGQ0MWQ4Y2Q5OGYwMGIyMDRlOTgwMDk5OGVjZjg0Mjdl',\n",
       " 'tracks': {'href': 'https://api.spotify.com/v1/playlists/37i9dQZF1DX3WvGXE8FqYX/tracks',\n",
       "  'total': 70},\n",
       " 'type': 'playlist',\n",
       " 'uri': 'spotify:playlist:37i9dQZF1DX3WvGXE8FqYX'}"
      ]
     },
     "metadata": {},
     "execution_count": 17
    }
   ],
   "metadata": {}
  },
  {
   "cell_type": "code",
   "execution_count": 18,
   "source": [
    "tracks = sp.playlist(playlists['items'][0]['id'])\n",
    "# tracks"
   ],
   "outputs": [],
   "metadata": {}
  },
  {
   "cell_type": "markdown",
   "source": [
    "Như vậy mỗi lần ta sẽ get được `limit` playlist - một playlist trả ra một list các track và tổng số track, ngoài ra còn có trả về một url khác để ta có thể crawl segment tiếp theo. Theo như ta test chặn đầu cuối thì sẽ có tổng cộng 1395 playlist."
   ],
   "metadata": {}
  },
  {
   "cell_type": "markdown",
   "source": [
    "### tqdm test"
   ],
   "metadata": {}
  },
  {
   "cell_type": "code",
   "execution_count": 19,
   "source": [
    "sleep_time = 0.1"
   ],
   "outputs": [],
   "metadata": {}
  },
  {
   "cell_type": "code",
   "execution_count": 20,
   "source": [
    "for i in tqdm(range(10),desc=f\"Test tqdm\",leave=True):\n",
    "    time.sleep(sleep_time)"
   ],
   "outputs": [
    {
     "output_type": "display_data",
     "data": {
      "text/plain": [
       "Test tqdm:   0%|          | 0/10 [00:00<?, ?it/s]"
      ],
      "application/vnd.jupyter.widget-view+json": {
       "model_id": "fcd9302cc2ff416290a1b2dd81f54ef7",
       "version_major": 2,
       "version_minor": 0
      }
     },
     "metadata": {}
    }
   ],
   "metadata": {}
  },
  {
   "cell_type": "code",
   "execution_count": 21,
   "source": [
    "for i in tqdm(range(10), position = 0, leave = True):\n",
    "    for j in tqdm(range(5), position = 1, leave = False):\n",
    "        time.sleep(sleep_time)"
   ],
   "outputs": [
    {
     "output_type": "display_data",
     "data": {
      "text/plain": [
       "  0%|          | 0/10 [00:00<?, ?it/s]"
      ],
      "application/vnd.jupyter.widget-view+json": {
       "model_id": "1478ddf8d6134b72a3ea55ce0c05e185",
       "version_major": 2,
       "version_minor": 0
      }
     },
     "metadata": {}
    },
    {
     "output_type": "display_data",
     "data": {
      "text/plain": [
       "  0%|          | 0/5 [00:00<?, ?it/s]"
      ],
      "application/vnd.jupyter.widget-view+json": {
       "model_id": "",
       "version_major": 2,
       "version_minor": 0
      }
     },
     "metadata": {}
    },
    {
     "output_type": "display_data",
     "data": {
      "text/plain": [
       "  0%|          | 0/5 [00:00<?, ?it/s]"
      ],
      "application/vnd.jupyter.widget-view+json": {
       "model_id": "",
       "version_major": 2,
       "version_minor": 0
      }
     },
     "metadata": {}
    },
    {
     "output_type": "display_data",
     "data": {
      "text/plain": [
       "  0%|          | 0/5 [00:00<?, ?it/s]"
      ],
      "application/vnd.jupyter.widget-view+json": {
       "model_id": "",
       "version_major": 2,
       "version_minor": 0
      }
     },
     "metadata": {}
    },
    {
     "output_type": "display_data",
     "data": {
      "text/plain": [
       "  0%|          | 0/5 [00:00<?, ?it/s]"
      ],
      "application/vnd.jupyter.widget-view+json": {
       "model_id": "",
       "version_major": 2,
       "version_minor": 0
      }
     },
     "metadata": {}
    },
    {
     "output_type": "display_data",
     "data": {
      "text/plain": [
       "  0%|          | 0/5 [00:00<?, ?it/s]"
      ],
      "application/vnd.jupyter.widget-view+json": {
       "model_id": "",
       "version_major": 2,
       "version_minor": 0
      }
     },
     "metadata": {}
    },
    {
     "output_type": "display_data",
     "data": {
      "text/plain": [
       "  0%|          | 0/5 [00:00<?, ?it/s]"
      ],
      "application/vnd.jupyter.widget-view+json": {
       "model_id": "",
       "version_major": 2,
       "version_minor": 0
      }
     },
     "metadata": {}
    },
    {
     "output_type": "display_data",
     "data": {
      "text/plain": [
       "  0%|          | 0/5 [00:00<?, ?it/s]"
      ],
      "application/vnd.jupyter.widget-view+json": {
       "model_id": "",
       "version_major": 2,
       "version_minor": 0
      }
     },
     "metadata": {}
    },
    {
     "output_type": "display_data",
     "data": {
      "text/plain": [
       "  0%|          | 0/5 [00:00<?, ?it/s]"
      ],
      "application/vnd.jupyter.widget-view+json": {
       "model_id": "",
       "version_major": 2,
       "version_minor": 0
      }
     },
     "metadata": {}
    },
    {
     "output_type": "display_data",
     "data": {
      "text/plain": [
       "  0%|          | 0/5 [00:00<?, ?it/s]"
      ],
      "application/vnd.jupyter.widget-view+json": {
       "model_id": "",
       "version_major": 2,
       "version_minor": 0
      }
     },
     "metadata": {}
    },
    {
     "output_type": "display_data",
     "data": {
      "text/plain": [
       "  0%|          | 0/5 [00:00<?, ?it/s]"
      ],
      "application/vnd.jupyter.widget-view+json": {
       "model_id": "",
       "version_major": 2,
       "version_minor": 0
      }
     },
     "metadata": {}
    }
   ],
   "metadata": {}
  },
  {
   "cell_type": "markdown",
   "source": [
    "## Define Constant"
   ],
   "metadata": {}
  },
  {
   "cell_type": "code",
   "execution_count": 22,
   "source": [
    "date = str(datetime.today().strftime('%Y%m%d_%H%M%S'))\n",
    "date"
   ],
   "outputs": [
    {
     "output_type": "execute_result",
     "data": {
      "text/plain": [
       "'20210824_212829'"
      ]
     },
     "metadata": {},
     "execution_count": 22
    }
   ],
   "metadata": {}
  },
  {
   "cell_type": "code",
   "execution_count": 23,
   "source": [
    "playlists_path = f\"../data/{date}_playlists.tsv\"\n",
    "tracks_path = f\"../data/{date}_tracks.tsv\"\n",
    "audios_path = f\"../data/{date}_audios.tsv\"\n",
    "artist_path = f\"../data/{date}_artists.tsv\""
   ],
   "outputs": [],
   "metadata": {}
  },
  {
   "cell_type": "markdown",
   "source": [
    "## Crawl Playlist"
   ],
   "metadata": {}
  },
  {
   "cell_type": "markdown",
   "source": [
    "Okay, giờ crawl playlist với cái thanh màu mè phía trên - 1395 playlists"
   ],
   "metadata": {}
  },
  {
   "cell_type": "code",
   "execution_count": 24,
   "source": [
    "# Chạy một offset từ 0 --> 1 (tương đương với 0 --> 50), như vậy từ 0 --> i sẽ tương đương với 0 --> 1395~(1400) --> i = 28\n",
    "# Hay nói đơn giản hơn, để crawl k playlist ta cần chạy offset từ 0 --> ceil(k/limit)\n",
    "\n",
    "def crawl_playlist(nplaylist=50,limit=50,file_to_save=\"data/playlists.tsv\",override=False):\n",
    "#     tính số segment cần crawl\n",
    "    nsegment = ceil(nplaylist/limit)\n",
    "    playlist_data = {}\n",
    "    playlist_cols = [\n",
    "        'playlist_id',\n",
    "        'playlist_name',\n",
    "        'playlist_description',\n",
    "        'playlist_num_tracks',\n",
    "        'playlist_num_followers'\n",
    "    ]\n",
    "    \n",
    "    if override:\n",
    "        with open(file_to_save, 'w') as f:\n",
    "            f.write('\\t'.join(playlist_cols) + '\\n')\n",
    "    \n",
    "    # print(f\"Crawling {nsegment} segments with limit={limit}, nplaylist={nplaylist}\")\n",
    "    for nseg in tqdm(range(0, nplaylist , limit),desc=f\"Crawling {nsegment} segments with limit={limit}, nplaylist={nplaylist}\",ascii=True):\n",
    "        time.sleep(sleep_time)\n",
    "        # print(f\"Crawling segment from: {nseg + 1} to {nseg + limit + 1} ...\")\n",
    "        playlists = sp.user_playlists(user='spotify', offset=nseg,limit=limit)\n",
    "\n",
    "        playlist_data = {}\n",
    "        for col in playlist_cols:\n",
    "            playlist_data[col] = []\n",
    "\n",
    "        for __playlist in tqdm(playlists['items'],leave=False,position=1, unit_scale=True,desc=f\"Crawling segment {ceil(nseg/limit)} from: {nseg + 1} to {nseg + limit + 1}\"):\n",
    "            try:\n",
    "                playlist = sp.playlist(__playlist['id'])\n",
    "\n",
    "                # Get playlist ID from PlaylistObject\n",
    "                playlist_data['playlist_id'].append(playlist['id'])\n",
    "                playlist_data['playlist_name'].append(playlist['name'])\n",
    "                playlist_data['playlist_description'].append(playlist['description'])\n",
    "                \n",
    "                # Get data from PlaylistTracksRefObject\n",
    "                playlist_data['playlist_num_tracks'].append(playlist['tracks']['total'])\n",
    "                \n",
    "                \n",
    "                # Get data from FollowersObject\n",
    "                playlist_data['playlist_num_followers'].append(playlist['followers']['total'])\n",
    "\n",
    "            except Exception:\n",
    "                print(traceback.format_exc())\n",
    "                continue\n",
    "                \n",
    "                \n",
    "        with open(file_to_save, 'a',encoding='utf-8') as f:\n",
    "            for i in range(len(playlist_data['playlist_id'])):\n",
    "                write_string = '\\t'.join([re.sub(r'(\\n+|\\t+|\\r+)(?=[A-Z])', ' ', str(playlist_data[k][i]).strip()) for k in playlist_cols]).encode().decode(\"utf-8\")\n",
    "                if write_string:\n",
    "                    f.write(write_string + '\\n')"
   ],
   "outputs": [],
   "metadata": {
    "tags": []
   }
  },
  {
   "cell_type": "code",
   "execution_count": 25,
   "source": [
    "crawl_playlist(file_to_save=playlists_path,nplaylist=1500,limit=50,override=True)"
   ],
   "outputs": [
    {
     "output_type": "display_data",
     "data": {
      "text/plain": [
       "Crawling 30 segments with limit=50, nplaylist=1500:   0%|          | 0/30 [00:00<?, ?it/s]"
      ],
      "application/vnd.jupyter.widget-view+json": {
       "model_id": "df0033a63c1244d1b985712ad2f56932",
       "version_major": 2,
       "version_minor": 0
      }
     },
     "metadata": {}
    },
    {
     "output_type": "display_data",
     "data": {
      "text/plain": [
       "Crawling segment 0 from: 1 to 51:   0%|          | 0.00/50.0 [00:00<?, ?it/s]"
      ],
      "application/vnd.jupyter.widget-view+json": {
       "model_id": "",
       "version_major": 2,
       "version_minor": 0
      }
     },
     "metadata": {}
    },
    {
     "output_type": "display_data",
     "data": {
      "text/plain": [
       "Crawling segment 1 from: 51 to 101:   0%|          | 0.00/50.0 [00:00<?, ?it/s]"
      ],
      "application/vnd.jupyter.widget-view+json": {
       "model_id": "",
       "version_major": 2,
       "version_minor": 0
      }
     },
     "metadata": {}
    },
    {
     "output_type": "display_data",
     "data": {
      "text/plain": [
       "Crawling segment 2 from: 101 to 151:   0%|          | 0.00/50.0 [00:00<?, ?it/s]"
      ],
      "application/vnd.jupyter.widget-view+json": {
       "model_id": "",
       "version_major": 2,
       "version_minor": 0
      }
     },
     "metadata": {}
    },
    {
     "output_type": "display_data",
     "data": {
      "text/plain": [
       "Crawling segment 3 from: 151 to 201:   0%|          | 0.00/50.0 [00:00<?, ?it/s]"
      ],
      "application/vnd.jupyter.widget-view+json": {
       "model_id": "",
       "version_major": 2,
       "version_minor": 0
      }
     },
     "metadata": {}
    },
    {
     "output_type": "display_data",
     "data": {
      "text/plain": [
       "Crawling segment 4 from: 201 to 251:   0%|          | 0.00/50.0 [00:00<?, ?it/s]"
      ],
      "application/vnd.jupyter.widget-view+json": {
       "model_id": "",
       "version_major": 2,
       "version_minor": 0
      }
     },
     "metadata": {}
    },
    {
     "output_type": "display_data",
     "data": {
      "text/plain": [
       "Crawling segment 5 from: 251 to 301:   0%|          | 0.00/50.0 [00:00<?, ?it/s]"
      ],
      "application/vnd.jupyter.widget-view+json": {
       "model_id": "",
       "version_major": 2,
       "version_minor": 0
      }
     },
     "metadata": {}
    },
    {
     "output_type": "display_data",
     "data": {
      "text/plain": [
       "Crawling segment 6 from: 301 to 351:   0%|          | 0.00/50.0 [00:00<?, ?it/s]"
      ],
      "application/vnd.jupyter.widget-view+json": {
       "model_id": "",
       "version_major": 2,
       "version_minor": 0
      }
     },
     "metadata": {}
    },
    {
     "output_type": "display_data",
     "data": {
      "text/plain": [
       "Crawling segment 7 from: 351 to 401:   0%|          | 0.00/50.0 [00:00<?, ?it/s]"
      ],
      "application/vnd.jupyter.widget-view+json": {
       "model_id": "",
       "version_major": 2,
       "version_minor": 0
      }
     },
     "metadata": {}
    },
    {
     "output_type": "display_data",
     "data": {
      "text/plain": [
       "Crawling segment 8 from: 401 to 451:   0%|          | 0.00/50.0 [00:00<?, ?it/s]"
      ],
      "application/vnd.jupyter.widget-view+json": {
       "model_id": "",
       "version_major": 2,
       "version_minor": 0
      }
     },
     "metadata": {}
    },
    {
     "output_type": "display_data",
     "data": {
      "text/plain": [
       "Crawling segment 9 from: 451 to 501:   0%|          | 0.00/50.0 [00:00<?, ?it/s]"
      ],
      "application/vnd.jupyter.widget-view+json": {
       "model_id": "",
       "version_major": 2,
       "version_minor": 0
      }
     },
     "metadata": {}
    },
    {
     "output_type": "display_data",
     "data": {
      "text/plain": [
       "Crawling segment 10 from: 501 to 551:   0%|          | 0.00/50.0 [00:00<?, ?it/s]"
      ],
      "application/vnd.jupyter.widget-view+json": {
       "model_id": "",
       "version_major": 2,
       "version_minor": 0
      }
     },
     "metadata": {}
    },
    {
     "output_type": "display_data",
     "data": {
      "text/plain": [
       "Crawling segment 11 from: 551 to 601:   0%|          | 0.00/50.0 [00:00<?, ?it/s]"
      ],
      "application/vnd.jupyter.widget-view+json": {
       "model_id": "",
       "version_major": 2,
       "version_minor": 0
      }
     },
     "metadata": {}
    },
    {
     "output_type": "display_data",
     "data": {
      "text/plain": [
       "Crawling segment 12 from: 601 to 651:   0%|          | 0.00/50.0 [00:00<?, ?it/s]"
      ],
      "application/vnd.jupyter.widget-view+json": {
       "model_id": "",
       "version_major": 2,
       "version_minor": 0
      }
     },
     "metadata": {}
    },
    {
     "output_type": "display_data",
     "data": {
      "text/plain": [
       "Crawling segment 13 from: 651 to 701:   0%|          | 0.00/50.0 [00:00<?, ?it/s]"
      ],
      "application/vnd.jupyter.widget-view+json": {
       "model_id": "",
       "version_major": 2,
       "version_minor": 0
      }
     },
     "metadata": {}
    },
    {
     "output_type": "display_data",
     "data": {
      "text/plain": [
       "Crawling segment 14 from: 701 to 751:   0%|          | 0.00/50.0 [00:00<?, ?it/s]"
      ],
      "application/vnd.jupyter.widget-view+json": {
       "model_id": "",
       "version_major": 2,
       "version_minor": 0
      }
     },
     "metadata": {}
    },
    {
     "output_type": "display_data",
     "data": {
      "text/plain": [
       "Crawling segment 15 from: 751 to 801:   0%|          | 0.00/50.0 [00:00<?, ?it/s]"
      ],
      "application/vnd.jupyter.widget-view+json": {
       "model_id": "",
       "version_major": 2,
       "version_minor": 0
      }
     },
     "metadata": {}
    },
    {
     "output_type": "display_data",
     "data": {
      "text/plain": [
       "Crawling segment 16 from: 801 to 851:   0%|          | 0.00/50.0 [00:00<?, ?it/s]"
      ],
      "application/vnd.jupyter.widget-view+json": {
       "model_id": "",
       "version_major": 2,
       "version_minor": 0
      }
     },
     "metadata": {}
    },
    {
     "output_type": "display_data",
     "data": {
      "text/plain": [
       "Crawling segment 17 from: 851 to 901:   0%|          | 0.00/50.0 [00:00<?, ?it/s]"
      ],
      "application/vnd.jupyter.widget-view+json": {
       "model_id": "",
       "version_major": 2,
       "version_minor": 0
      }
     },
     "metadata": {}
    },
    {
     "output_type": "display_data",
     "data": {
      "text/plain": [
       "Crawling segment 18 from: 901 to 951:   0%|          | 0.00/50.0 [00:00<?, ?it/s]"
      ],
      "application/vnd.jupyter.widget-view+json": {
       "model_id": "",
       "version_major": 2,
       "version_minor": 0
      }
     },
     "metadata": {}
    },
    {
     "output_type": "display_data",
     "data": {
      "text/plain": [
       "Crawling segment 19 from: 951 to 1001:   0%|          | 0.00/50.0 [00:00<?, ?it/s]"
      ],
      "application/vnd.jupyter.widget-view+json": {
       "model_id": "",
       "version_major": 2,
       "version_minor": 0
      }
     },
     "metadata": {}
    },
    {
     "output_type": "display_data",
     "data": {
      "text/plain": [
       "Crawling segment 20 from: 1001 to 1051:   0%|          | 0.00/50.0 [00:00<?, ?it/s]"
      ],
      "application/vnd.jupyter.widget-view+json": {
       "model_id": "",
       "version_major": 2,
       "version_minor": 0
      }
     },
     "metadata": {}
    },
    {
     "output_type": "display_data",
     "data": {
      "text/plain": [
       "Crawling segment 21 from: 1051 to 1101:   0%|          | 0.00/50.0 [00:00<?, ?it/s]"
      ],
      "application/vnd.jupyter.widget-view+json": {
       "model_id": "",
       "version_major": 2,
       "version_minor": 0
      }
     },
     "metadata": {}
    },
    {
     "output_type": "display_data",
     "data": {
      "text/plain": [
       "Crawling segment 22 from: 1101 to 1151:   0%|          | 0.00/50.0 [00:00<?, ?it/s]"
      ],
      "application/vnd.jupyter.widget-view+json": {
       "model_id": "",
       "version_major": 2,
       "version_minor": 0
      }
     },
     "metadata": {}
    },
    {
     "output_type": "display_data",
     "data": {
      "text/plain": [
       "Crawling segment 23 from: 1151 to 1201:   0%|          | 0.00/50.0 [00:00<?, ?it/s]"
      ],
      "application/vnd.jupyter.widget-view+json": {
       "model_id": "",
       "version_major": 2,
       "version_minor": 0
      }
     },
     "metadata": {}
    },
    {
     "output_type": "display_data",
     "data": {
      "text/plain": [
       "Crawling segment 24 from: 1201 to 1251:   0%|          | 0.00/50.0 [00:00<?, ?it/s]"
      ],
      "application/vnd.jupyter.widget-view+json": {
       "model_id": "",
       "version_major": 2,
       "version_minor": 0
      }
     },
     "metadata": {}
    },
    {
     "output_type": "display_data",
     "data": {
      "text/plain": [
       "Crawling segment 25 from: 1251 to 1301:   0%|          | 0.00/50.0 [00:00<?, ?it/s]"
      ],
      "application/vnd.jupyter.widget-view+json": {
       "model_id": "",
       "version_major": 2,
       "version_minor": 0
      }
     },
     "metadata": {}
    },
    {
     "output_type": "display_data",
     "data": {
      "text/plain": [
       "Crawling segment 26 from: 1301 to 1351:   0%|          | 0.00/50.0 [00:00<?, ?it/s]"
      ],
      "application/vnd.jupyter.widget-view+json": {
       "model_id": "",
       "version_major": 2,
       "version_minor": 0
      }
     },
     "metadata": {}
    },
    {
     "output_type": "display_data",
     "data": {
      "text/plain": [
       "Crawling segment 27 from: 1351 to 1401:   0%|          | 0.00/45.0 [00:00<?, ?it/s]"
      ],
      "application/vnd.jupyter.widget-view+json": {
       "model_id": "",
       "version_major": 2,
       "version_minor": 0
      }
     },
     "metadata": {}
    },
    {
     "output_type": "display_data",
     "data": {
      "text/plain": [
       "Crawling segment 28 from: 1401 to 1451: 0.00it [00:00, ?it/s]"
      ],
      "application/vnd.jupyter.widget-view+json": {
       "model_id": "",
       "version_major": 2,
       "version_minor": 0
      }
     },
     "metadata": {}
    },
    {
     "output_type": "display_data",
     "data": {
      "text/plain": [
       "Crawling segment 29 from: 1451 to 1501: 0.00it [00:00, ?it/s]"
      ],
      "application/vnd.jupyter.widget-view+json": {
       "model_id": "",
       "version_major": 2,
       "version_minor": 0
      }
     },
     "metadata": {}
    }
   ],
   "metadata": {}
  },
  {
   "cell_type": "markdown",
   "source": [
    "## Crawl Tracks"
   ],
   "metadata": {}
  },
  {
   "cell_type": "code",
   "execution_count": 26,
   "source": [
    "df = pd.read_csv(playlists_path,sep=\"\\t\")\n",
    "playlist_ids = df[\"playlist_id\"]\n",
    "print(playlist_ids[0:5])"
   ],
   "outputs": [
    {
     "output_type": "stream",
     "name": "stdout",
     "text": [
      "0    37i9dQZF1DXcBWIGoYBM5M\n",
      "1    37i9dQZF1DX0XUsuxWHRQd\n",
      "2    37i9dQZF1DX1lVhptIYRda\n",
      "3    37i9dQZF1DX10zKzsJ2jva\n",
      "4    37i9dQZF1DX4JAvHpjipBk\n",
      "Name: playlist_id, dtype: object\n"
     ]
    }
   ],
   "metadata": {}
  },
  {
   "cell_type": "code",
   "execution_count": 27,
   "source": [
    "def crawl_tracks(playlist_ids,file_to_save=\"data/tracks.tsv\",override=False):\n",
    "    __playlist_id = playlist_ids\n",
    "    \n",
    "    \n",
    "    track_data = {}\n",
    "    track_cols = [\n",
    "        'playlist_id',\n",
    "        'track_id',\n",
    "        'track_name',\n",
    "        'track_duration',\n",
    "        'artist_ids',\n",
    "        'artist_names',\n",
    "        'album_id',\n",
    "        'album_name',\n",
    "#         'available_markets',\n",
    "        'popularity',\n",
    "    ]\n",
    "    \n",
    "    \n",
    "    if override:\n",
    "        with open(file_to_save, 'w') as f:\n",
    "            f.write('\\t'.join(track_cols) + '\\n')\n",
    "    \n",
    "    for __id in tqdm(__playlist_id,desc=f\"Crawling total {len(__playlist_id)} playlists track data\",ascii=True):\n",
    "        time.sleep(sleep_time)\n",
    "        try:\n",
    "            playlist = sp.playlist(__id)\n",
    "\n",
    "            track_data = {}\n",
    "            for col in track_cols:\n",
    "                track_data[col] = []\n",
    "\n",
    "            for _track in playlist['tracks']['items']:\n",
    "                \n",
    "                track = _track['track']\n",
    "                \n",
    "                if not track:\n",
    "                    continue\n",
    "                track_data['playlist_id'].append(__id)\n",
    "                \n",
    "                track_data['track_id'].append(track['id'])\n",
    "                track_data['track_name'].append(track['name'])\n",
    "                track_data['track_duration'].append(track['duration_ms'])\n",
    "\n",
    "    #             track_data['available_markets'].append(track['available_markets'])\n",
    "                track_data['popularity'].append(track['popularity'])\n",
    "\n",
    "                track_data['artist_ids'].append([artist['id'] for artist in track['artists']])\n",
    "                track_data['artist_names'].append([artist['name'] for artist in track['artists']])\n",
    "\n",
    "\n",
    "                track_data['album_id'].append(track['album']['id'])\n",
    "                track_data['album_name'].append(track['album']['name'])\n",
    "        except Exception:\n",
    "            print(f\"Error in playlist id {__id}; link to playlist {playlist['external_urls']['spotify']}\")\n",
    "            print(traceback.format_exc())\n",
    "            print(track_data)\n",
    "            continue\n",
    "\n",
    "        with open(file_to_save, 'a',encoding='utf-8') as f:\n",
    "            for i in range(len(track_data['track_id'])):\n",
    "                write_string = '\\t'.join([re.sub(r'(\\n+|\\t+|\\r+)(?=[A-Z])',' ', str(track_data[k][i]).strip()) for k in track_cols]).encode().decode(\"utf-8\")\n",
    "                if write_string:\n",
    "                    f.write(write_string + '\\n')"
   ],
   "outputs": [],
   "metadata": {}
  },
  {
   "cell_type": "code",
   "execution_count": 29,
   "source": [
    "crawl_tracks(playlist_ids,file_to_save=tracks_path,override=True)"
   ],
   "outputs": [
    {
     "output_type": "display_data",
     "data": {
      "text/plain": [
       "Crawling total 1395 playlists track data:   0%|          | 0/1395 [00:00<?, ?it/s]"
      ],
      "application/vnd.jupyter.widget-view+json": {
       "model_id": "3e0702441a09473abcbf8f0d237b0266",
       "version_major": 2,
       "version_minor": 0
      }
     },
     "metadata": {}
    }
   ],
   "metadata": {}
  },
  {
   "cell_type": "code",
   "execution_count": 30,
   "source": [
    "# pl = sp.playlist('37i9dQZF1DWXMg4uP5o3dm')\n",
    "# pl['tracks']['items'][18] #['track']['id']"
   ],
   "outputs": [],
   "metadata": {}
  },
  {
   "cell_type": "code",
   "execution_count": 31,
   "source": [
    "# pl = sp.playlist('37i9dQZF1DWU2LcZVHsTdv')\n",
    "# '\\t'.join([re.sub(, ' ', str(pl['description']).strip())]).encode().decode(\"utf-8\")"
   ],
   "outputs": [],
   "metadata": {}
  },
  {
   "cell_type": "markdown",
   "source": [
    "## Crawl Audio Features"
   ],
   "metadata": {}
  },
  {
   "cell_type": "code",
   "execution_count": 32,
   "source": [
    "df = pd.read_csv(tracks_path,sep=\"\\t\")\n",
    "# playlist_ids = df[\"playlist_id\"]\n",
    "# print(playlist_ids[0:5])\n",
    "df['track_id']"
   ],
   "outputs": [
    {
     "output_type": "execute_result",
     "data": {
      "text/plain": [
       "0        5HCyWlXZPP0y6Gqq8TgA20\n",
       "1        27NovPIUIRrOZoCHxABJwK\n",
       "2        3Vi5XqYrmQgOYBajMWSvCi\n",
       "3        6PQ88X9TkUIAUIZJHW2upE\n",
       "4        3Wrjm47oTz2sjIgck11l5e\n",
       "                  ...          \n",
       "88814    5kqIPrATaCc2LqxVWzQGbk\n",
       "88815    3FCto7hnn1shUyZL42YgfO\n",
       "88816    3XVBdLihbNbxUwZosxcGuJ\n",
       "88817    6QPKYGnAW9QozVz2dSWqRg\n",
       "88818    1VdZ0vKfR5jneCmWIUAMxK\n",
       "Name: track_id, Length: 88819, dtype: object"
      ]
     },
     "metadata": {},
     "execution_count": 32
    }
   ],
   "metadata": {}
  },
  {
   "cell_type": "code",
   "execution_count": 33,
   "source": [
    "track_ids = df['track_id'].drop_duplicates()"
   ],
   "outputs": [],
   "metadata": {}
  },
  {
   "cell_type": "code",
   "execution_count": 34,
   "source": [
    "def crawl_audios(track_ids,file_to_save=\"data/audios.tsv\",override=False,limit=50):\n",
    "    __track_ids = track_ids\n",
    "    audio_cols = [\n",
    "        'id',\n",
    "        'danceability',\n",
    "        'energy',\n",
    "        'key',\n",
    "        'loudness',\n",
    "        'mode',\n",
    "        'speechiness',\n",
    "        'acousticness',\n",
    "        'instrumentalness',\n",
    "        'liveness',\n",
    "        'valence',\n",
    "        'tempo',\n",
    "        'time_signature'\n",
    "    ]\n",
    "\n",
    "    if override:\n",
    "        with open(file_to_save, 'w') as f:\n",
    "            f.write('\\t'.join(audio_cols) + '\\n')\n",
    "    \n",
    "    for start in tqdm(range(0, len(__track_ids), limit), desc=f\"Crawling total {len(__track_ids)} audio features data\",ascii=True):\n",
    "        time.sleep(sleep_time)\n",
    "        \n",
    "        audio_data = {}\n",
    "        for col in audio_cols:\n",
    "            audio_data[col] = []\n",
    "        \n",
    "        end = min(start+limit, len(track_ids))\n",
    "        \n",
    "        audio_features = sp.audio_features(track_ids[start:end])\n",
    "        \n",
    "        for audio in (audio_features):\n",
    "            if not audio:\n",
    "                continue\n",
    "            try:\n",
    "                for cols in audio_cols:\n",
    "                    audio_data[cols].append(audio[cols])\n",
    "\n",
    "            except Exception:\n",
    "                print(f\"Error in track id {audio}\")\n",
    "                print(traceback.format_exc())\n",
    "                continue\n",
    "                \n",
    "        with open(file_to_save, 'a',encoding='utf-8') as f:\n",
    "            for i in range(len(audio_data['id'])):\n",
    "                write_string = '\\t'.join([re.sub(r'(\\n+|\\t+|\\r+)(?=[A-Z])',' ', str(audio_data[k][i]).strip()) for k in audio_cols]).encode().decode(\"utf-8\")\n",
    "                if write_string:\n",
    "                    f.write(write_string + '\\n')"
   ],
   "outputs": [],
   "metadata": {}
  },
  {
   "cell_type": "code",
   "execution_count": 36,
   "source": [
    "crawl_audios(track_ids,file_to_save=audios_path,override=True,limit=50)"
   ],
   "outputs": [
    {
     "output_type": "display_data",
     "data": {
      "text/plain": [
       "Crawling total 70031 audio features data:   0%|          | 0/1401 [00:00<?, ?it/s]"
      ],
      "application/vnd.jupyter.widget-view+json": {
       "model_id": "768c2d2f3d8348598cee650f2295cf17",
       "version_major": 2,
       "version_minor": 0
      }
     },
     "metadata": {}
    }
   ],
   "metadata": {}
  },
  {
   "cell_type": "markdown",
   "source": [
    "## Crawl Artist"
   ],
   "metadata": {}
  },
  {
   "cell_type": "code",
   "execution_count": 37,
   "source": [
    "df = pd.read_csv(tracks_path,sep=\"\\t\")\n",
    "artist_ids = df['artist_ids'].apply(lambda x: x[1:-1].split(\", \")).explode().apply(lambda x: x[1:-1]).to_list()\n",
    "artist_ids = list(set(artist_ids))"
   ],
   "outputs": [],
   "metadata": {}
  },
  {
   "cell_type": "code",
   "execution_count": 38,
   "source": [
    "def crawl_artist(artist_ids,file_to_save=\"data/artists.tsv\",override=False,limit=50):\n",
    "\n",
    "    __artist_ids = artist_ids\n",
    "    artist_cols = [\n",
    "        'id',\n",
    "        'name',\n",
    "        'followers',\n",
    "        'popularity',\n",
    "        'genres',\n",
    "    ]\n",
    "    \n",
    "    if override:\n",
    "        with open(file_to_save, 'w') as f:\n",
    "            f.write('\\t'.join(artist_cols) + '\\n')\n",
    "\n",
    "    for start in tqdm(range(0, len(__artist_ids), limit),  desc=f\"Crawling total {len(__artist_ids)} artists data\",ascii=True):\n",
    "        time.sleep(sleep_time)\n",
    "\n",
    "        artist_data = {}\n",
    "        for col in artist_cols:\n",
    "            artist_data[col] = []\n",
    "\n",
    "        end = min(start+limit, len(artist_ids))\n",
    "        artist_features = sp.artists(artist_ids[start:end])\n",
    "        for artist in artist_features['artists']:\n",
    "            try:\n",
    "                if not artist:\n",
    "                    continue\n",
    "                artist_data['followers'].append(artist['followers']['total'])\n",
    "                artist_data['id'].append(artist['id'])\n",
    "                artist_data['name'].append(artist['name'])\n",
    "                artist_data['popularity'].append(artist['popularity'])\n",
    "                artist_data['genres'].append(artist['genres'])\n",
    "            except Exception:\n",
    "                print(f\"Error in artist id {artist}\")\n",
    "                print(traceback.format_exc())\n",
    "                continue\n",
    "        with open(file_to_save, 'a',encoding='utf-8') as f:\n",
    "            for i in range(len(artist_data['id'])):\n",
    "                write_string = '\\t'.join([re.sub(r'(\\n+|\\t+|\\r+)(?=[A-Z])',' ', str(artist_data[k][i]).strip()) for k in artist_cols]).encode().decode(\"utf-8\")\n",
    "                if write_string:\n",
    "                    f.write(write_string + '\\n')"
   ],
   "outputs": [],
   "metadata": {}
  },
  {
   "cell_type": "code",
   "execution_count": 41,
   "source": [
    "crawl_artist(artist_ids,file_to_save=artist_path,override=True)"
   ],
   "outputs": [
    {
     "output_type": "display_data",
     "data": {
      "text/plain": [
       "Crawling total 34655 artists data:   0%|          | 0/694 [00:00<?, ?it/s]"
      ],
      "application/vnd.jupyter.widget-view+json": {
       "model_id": "d6633450982c41d5ae7173227670855e",
       "version_major": 2,
       "version_minor": 0
      }
     },
     "metadata": {}
    }
   ],
   "metadata": {}
  }
 ],
 "metadata": {
  "kernelspec": {
   "display_name": "Python 3",
   "language": "python",
   "name": "python3"
  },
  "language_info": {
   "codemirror_mode": {
    "name": "ipython",
    "version": 3
   },
   "file_extension": ".py",
   "mimetype": "text/x-python",
   "name": "python",
   "nbconvert_exporter": "python",
   "pygments_lexer": "ipython3",
   "version": "3.8.8"
  }
 },
 "nbformat": 4,
 "nbformat_minor": 5
}